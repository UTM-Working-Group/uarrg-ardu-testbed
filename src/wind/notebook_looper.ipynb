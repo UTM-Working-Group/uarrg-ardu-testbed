{
 "cells": [
  {
   "cell_type": "code",
   "execution_count": 1,
   "metadata": {},
   "outputs": [],
   "source": [
    "from import_file import *\n",
    "import papermill as pm"
   ]
  },
  {
   "cell_type": "code",
   "execution_count": 2,
   "metadata": {},
   "outputs": [],
   "source": [
    "# Be sure to comment out code in original notebook\n",
    "# 1. load_libs()\n",
    "# 2. save_notebook, last cell\n",
    "# 3. disable svg\n",
    "\n",
    "input_infos = [\n",
    "#     {'file_path': 'data/ECMWF/usa/48.75N98.25W/dat.csv', 'bandwidth': 0.8},\n",
    "#     {'file_path': 'data/ECMWF/venezuela/8N67W/dat.csv', 'bandwidth': 0.3},\n",
    "#     {'file_path': 'data/ECMWF/chile/52S75W/dat.csv', 'bandwidth': 1.1 },\n",
    "    {'file_path': 'data/ECMWF/iceland/65N17W/dat.csv', 'bandwidth': 1.1 },\n",
    "    {'file_path': 'data/ECMWF/sudan/18N32E/dat.csv', 'bandwidth': 0.5 },\n",
    "    {'file_path': 'data/ECMWF/china/20N120E/dat.csv', 'bandwidth': 1.1, 'NUMBER_OF_GAUSSIAN': 2  },\n",
    "    {'file_path': 'data/ECMWF/australia/37S142E/dat.csv', 'bandwidth': 0.5, 'NUMBER_OF_GAUSSIAN': 5 },\n",
    "    {'file_path': 'data/portus/cabo_de_gata/dat.csv', 'bandwidth': 0.7 , 'NUMBER_OF_GAUSSIAN': 4 },\n",
    "]\n",
    "\n",
    "for input_info in input_infos:\n",
    "    file_path = input_info['file_path']\n",
    "    if 'bandwidth' in input_info.keys():\n",
    "        bandwidth = input_info['bandwidth']\n",
    "    else:\n",
    "        bandwidth = None\n",
    "    if 'NUMBER_OF_GAUSSIAN' in input_info.keys():\n",
    "        NUMBER_OF_GAUSSIAN = input_info['NUMBER_OF_GAUSSIAN']\n",
    "    else:\n",
    "        NUMBER_OF_GAUSSIAN = 3\n",
    "        \n",
    "    location_name = get_location_name(file_path)\n",
    "    output_file = 'D:/output_HTML/'+location_name+'.ipynb' \n",
    "    \n",
    "    pm.execute_notebook(\n",
    "       notebook='GMM.ipynb',\n",
    "       output=output_file,\n",
    "       parameters=dict(file_path=file_path, bandwidth=bandwidth, NUMBER_OF_GAUSSIAN=NUMBER_OF_GAUSSIAN)\n",
    "    )"
   ]
  }
 ],
 "metadata": {
  "kernelspec": {
   "display_name": "Python 3",
   "language": "python",
   "name": "python3"
  },
  "language_info": {
   "codemirror_mode": {
    "name": "ipython",
    "version": 3
   },
   "file_extension": ".py",
   "mimetype": "text/x-python",
   "name": "python",
   "nbconvert_exporter": "python",
   "pygments_lexer": "ipython3",
   "version": "3.6.1"
  },
  "toc": {
   "nav_menu": {},
   "number_sections": true,
   "sideBar": true,
   "skip_h1_title": false,
   "toc_cell": false,
   "toc_position": {},
   "toc_section_display": "block",
   "toc_window_display": false
  }
 },
 "nbformat": 4,
 "nbformat_minor": 2
}
