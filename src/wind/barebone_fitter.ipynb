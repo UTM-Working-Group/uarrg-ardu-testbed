{
 "cells": [
  {
   "cell_type": "code",
   "execution_count": 2,
   "metadata": {},
   "outputs": [
    {
     "name": "stdout",
     "output_type": "stream",
     "text": [
      "The autoreload extension is already loaded. To reload it, use:\n",
      "  %reload_ext autoreload\n"
     ]
    }
   ],
   "source": [
    "%matplotlib inline\n",
    "%load_ext autoreload\n",
    "%autoreload 2\n",
    "from import_file import *\n",
    "# load_libs()"
   ]
  },
  {
   "cell_type": "markdown",
   "metadata": {},
   "source": [
    "# 1. Initial Input"
   ]
  },
  {
   "cell_type": "code",
   "execution_count": 3,
   "metadata": {},
   "outputs": [],
   "source": [
    "NUMBER_OF_GAUSSIAN = 3\n",
    "KNOT_UNIT, BIN_WIDTH = False, 0.5 "
   ]
  },
  {
   "cell_type": "code",
   "execution_count": 4,
   "metadata": {},
   "outputs": [],
   "source": [
    "input_file='./data/barebone_dat.csv'\n",
    "df = pd.read_csv(input_file, header=0)"
   ]
  },
  {
   "cell_type": "markdown",
   "metadata": {},
   "source": [
    "# 2. Fit Config Generation"
   ]
  },
  {
   "cell_type": "code",
   "execution_count": 5,
   "metadata": {},
   "outputs": [],
   "source": [
    "# Grid Generation\n",
    "df['speed']=np.sqrt(df.x**2+df.y**2)\n",
    "FIT_LIMIT = ceil(df['speed'].quantile(.95))\n",
    "\n",
    "fitting_axis_range = arange(-FIT_LIMIT, FIT_LIMIT+BIN_WIDTH, BIN_WIDTH)\n",
    "FITTING_RANGE = [[i,j] for i in fitting_axis_range \n",
    "                 for j in fitting_axis_range]"
   ]
  },
  {
   "cell_type": "code",
   "execution_count": 6,
   "metadata": {},
   "outputs": [],
   "source": [
    "bandwidth, fig = bandwidth_selection(df, KNOT_UNIT)"
   ]
  },
  {
   "cell_type": "code",
   "execution_count": 7,
   "metadata": {},
   "outputs": [],
   "source": [
    "config = create_gmm_config(bandwidth, FITTING_RANGE, FIT_LIMIT, BIN_WIDTH)"
   ]
  },
  {
   "cell_type": "markdown",
   "metadata": {},
   "source": [
    "# 3. Fit Gmm"
   ]
  },
  {
   "cell_type": "code",
   "execution_count": 8,
   "metadata": {},
   "outputs": [],
   "source": [
    "result = fit_gmm(df, config=config, number_of_gaussian=NUMBER_OF_GAUSSIAN)"
   ]
  },
  {
   "cell_type": "code",
   "execution_count": 9,
   "metadata": {},
   "outputs": [
    {
     "data": {
      "text/html": [
       "<div>\n",
       "<style scoped>\n",
       "    .dataframe tbody tr th:only-of-type {\n",
       "        vertical-align: middle;\n",
       "    }\n",
       "\n",
       "    .dataframe tbody tr th {\n",
       "        vertical-align: top;\n",
       "    }\n",
       "\n",
       "    .dataframe thead th {\n",
       "        text-align: right;\n",
       "    }\n",
       "</style>\n",
       "<table border=\"1\" class=\"dataframe\">\n",
       "  <thead>\n",
       "    <tr style=\"text-align: right;\">\n",
       "      <th></th>\n",
       "      <th>weight</th>\n",
       "      <th>mean_x</th>\n",
       "      <th>mean_y</th>\n",
       "      <th>sig_x</th>\n",
       "      <th>sig_y</th>\n",
       "      <th>corr</th>\n",
       "    </tr>\n",
       "  </thead>\n",
       "  <tbody>\n",
       "    <tr>\n",
       "      <th>1</th>\n",
       "      <td>0.698</td>\n",
       "      <td>-1.817</td>\n",
       "      <td>2.049</td>\n",
       "      <td>3.258</td>\n",
       "      <td>3.386</td>\n",
       "      <td>-0.023</td>\n",
       "    </tr>\n",
       "    <tr>\n",
       "      <th>2</th>\n",
       "      <td>0.254</td>\n",
       "      <td>1.022</td>\n",
       "      <td>-3.891</td>\n",
       "      <td>2.450</td>\n",
       "      <td>2.739</td>\n",
       "      <td>0.299</td>\n",
       "    </tr>\n",
       "    <tr>\n",
       "      <th>3</th>\n",
       "      <td>0.048</td>\n",
       "      <td>-1.885</td>\n",
       "      <td>-1.201</td>\n",
       "      <td>1.069</td>\n",
       "      <td>1.773</td>\n",
       "      <td>-0.498</td>\n",
       "    </tr>\n",
       "  </tbody>\n",
       "</table>\n",
       "</div>"
      ],
      "text/plain": [
       "  weight  mean_x  mean_y  sig_x  sig_y    corr\n",
       "1  0.698  -1.817   2.049  3.258  3.386  -0.023\n",
       "2  0.254   1.022  -3.891  2.450  2.739   0.299\n",
       "3  0.048  -1.885  -1.201  1.069  1.773  -0.498"
      ]
     },
     "execution_count": 9,
     "metadata": {},
     "output_type": "execute_result"
    }
   ],
   "source": [
    "pretty_print_gmm(result['gmm'])"
   ]
  },
  {
   "cell_type": "code",
   "execution_count": 10,
   "metadata": {},
   "outputs": [
    {
     "data": {
      "text/html": [
       "<div>\n",
       "<style scoped>\n",
       "    .dataframe tbody tr th:only-of-type {\n",
       "        vertical-align: middle;\n",
       "    }\n",
       "\n",
       "    .dataframe tbody tr th {\n",
       "        vertical-align: top;\n",
       "    }\n",
       "\n",
       "    .dataframe thead th {\n",
       "        text-align: right;\n",
       "    }\n",
       "</style>\n",
       "<table border=\"1\" class=\"dataframe\">\n",
       "  <thead>\n",
       "    <tr style=\"text-align: right;\">\n",
       "      <th></th>\n",
       "      <th>R_square</th>\n",
       "      <th>K_S</th>\n",
       "      <th>Chi_square</th>\n",
       "      <th>Chi_square_2</th>\n",
       "      <th>MSE</th>\n",
       "      <th>RMSE / Max</th>\n",
       "      <th>RMSE / Mean</th>\n",
       "    </tr>\n",
       "  </thead>\n",
       "  <tbody>\n",
       "    <tr>\n",
       "      <th>0</th>\n",
       "      <td>0.990</td>\n",
       "      <td>0.010</td>\n",
       "      <td>0.076</td>\n",
       "      <td>18814.321</td>\n",
       "      <td>8.479505e-08</td>\n",
       "      <td>0.023</td>\n",
       "      <td>0.124</td>\n",
       "    </tr>\n",
       "  </tbody>\n",
       "</table>\n",
       "</div>"
      ],
      "text/plain": [
       "  R_square    K_S Chi_square Chi_square_2           MSE RMSE / Max RMSE / Mean\n",
       "0    0.990  0.010      0.076    18814.321  8.479505e-08      0.023       0.124"
      ]
     },
     "execution_count": 10,
     "metadata": {},
     "output_type": "execute_result"
    }
   ],
   "source": [
    "gof_df(result['gmm_pdf_result'], result['kde_result'], BIN_WIDTH)"
   ]
  },
  {
   "cell_type": "code",
   "execution_count": 11,
   "metadata": {},
   "outputs": [
    {
     "data": {
      "text/plain": [
       "{'gmm': [array([ 0.69822637, -1.81672998,  2.04940491,  3.25785788,  3.38627527,\n",
       "         -0.02301957]),\n",
       "  array([ 0.25395675,  1.0218913 , -3.891033  ,  2.44980097,  2.73949552,\n",
       "          0.29900352]),\n",
       "  array([ 0.04781688, -1.8850461 , -1.20087806,  1.06943139,  1.77274812,\n",
       "         -0.49753227])],\n",
       " 'kde_clf': KernelDensity(bandwidth=0.8000000000000003),\n",
       " 'kde_result': array([3.31092800e-06, 6.71224318e-06, 1.35012938e-05, ...,\n",
       "        1.73724866e-07, 5.78042792e-08, 1.49732175e-08]),\n",
       " 'gmm_pdf_result': array([7.84917923e-07, 1.23952417e-06, 1.94581166e-06, ...,\n",
       "        1.43525606e-06, 1.03401796e-06, 7.29205917e-07]),\n",
       " 'number_of_iteration': 111}"
      ]
     },
     "execution_count": 11,
     "metadata": {},
     "output_type": "execute_result"
    }
   ],
   "source": [
    "result"
   ]
  },
  {
   "cell_type": "code",
   "execution_count": 12,
   "metadata": {},
   "outputs": [
    {
     "ename": "AttributeError",
     "evalue": "'dict' object has no attribute 'sample'",
     "output_type": "error",
     "traceback": [
      "\u001b[0;31m---------------------------------------------------------------------------\u001b[0m",
      "\u001b[0;31mAttributeError\u001b[0m                            Traceback (most recent call last)",
      "\u001b[0;32m<ipython-input-12-118eb65368c8>\u001b[0m in \u001b[0;36m<module>\u001b[0;34m\u001b[0m\n\u001b[0;32m----> 1\u001b[0;31m \u001b[0mresult\u001b[0m\u001b[0;34m.\u001b[0m\u001b[0msample\u001b[0m\u001b[0;34m(\u001b[0m\u001b[0;36m100\u001b[0m\u001b[0;34m)\u001b[0m\u001b[0;34m\u001b[0m\u001b[0;34m\u001b[0m\u001b[0m\n\u001b[0m",
      "\u001b[0;31mAttributeError\u001b[0m: 'dict' object has no attribute 'sample'"
     ]
    }
   ],
   "source": [
    "result.sample(100)"
   ]
  },
  {
   "cell_type": "code",
   "execution_count": 13,
   "metadata": {},
   "outputs": [
    {
     "data": {
      "text/plain": [
       "dict"
      ]
     },
     "execution_count": 13,
     "metadata": {},
     "output_type": "execute_result"
    }
   ],
   "source": [
    "type(result)"
   ]
  },
  {
   "cell_type": "code",
   "execution_count": null,
   "metadata": {},
   "outputs": [],
   "source": []
  }
 ],
 "metadata": {
  "kernelspec": {
   "display_name": "Python 3",
   "language": "python",
   "name": "python3"
  },
  "language_info": {
   "codemirror_mode": {
    "name": "ipython",
    "version": 3
   },
   "file_extension": ".py",
   "mimetype": "text/x-python",
   "name": "python",
   "nbconvert_exporter": "python",
   "pygments_lexer": "ipython3",
   "version": "3.6.9"
  },
  "toc": {
   "nav_menu": {},
   "number_sections": true,
   "sideBar": true,
   "skip_h1_title": false,
   "toc_cell": false,
   "toc_position": {},
   "toc_section_display": "block",
   "toc_window_display": false
  }
 },
 "nbformat": 4,
 "nbformat_minor": 2
}
